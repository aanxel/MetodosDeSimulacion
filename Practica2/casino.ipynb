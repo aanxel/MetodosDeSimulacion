{
 "cells": [
  {
   "cell_type": "code",
   "execution_count": 3,
   "metadata": {},
   "outputs": [],
   "source": [
    "import matplotlib.pyplot as plt\n",
    "import numpy as np\n",
    "from casino import SimCasino, CasinoAnnealer"
   ]
  },
  {
   "cell_type": "code",
   "execution_count": 9,
   "metadata": {},
   "outputs": [
    {
     "name": "stdout",
     "output_type": "stream",
     "text": [
      "Apartado a)\n",
      "\tProporción días bancarrota:  0.11631333333333625\n",
      "Apartado b)\n",
      "\tDistribución de fichas al final día:\n"
     ]
    },
    {
     "data": {
      "image/png": "[encoded data removed]",
      "text/plain": [
       "<Figure size 432x288 with 1 Axes>"
      ]
     },
     "metadata": {
      "needs_background": "light"
     },
     "output_type": "display_data"
    },
    {
     "name": "stdout",
     "output_type": "stream",
     "text": [
      "Apartado c)\n",
      "\tPartidas medias antes de bancarrota:  41.43688711256851\n",
      "Número medio de fichas de cada noche: 28.686626666666672\n"
     ]
    }
   ],
   "source": [
    "# Simular para los apartados a, b y c\n",
    "# a) ¿qué proporción de noches a lo largo de un mes se ha retirado por quedarse sin dinero?\n",
    "# b) ¿Cuál es el número de fichas con las que ha finalizado las noches de ese mes y cómo se distribuye (representar el histograma)? \n",
    "# c) ¿cuál  es  el  número  medio  de  partidas  jugadas  antes  de  retirarse  por quedarse sin dinero?\n",
    "sim = SimCasino()\n",
    "a, b, c = sim.simular(n_simulaciones=5000)\n",
    "print(f'Apartado a)\\n\\tProporción días bancarrota:  {a}')\n",
    "print(f'Apartado b)\\n\\tDistribución de fichas al final día:')\n",
    "fig = plt.figure()\n",
    "ax = fig.add_axes([0,0,2,2])\n",
    "ax.bar(list(range(sim.max_fichas + 35)),b, width=1, color = 'b', edgecolor='r')\n",
    "# ax.set_xticks([0] + list(filter(lambda z: z, [x if y > 0 else 0 for x, y in enumerate(b)])))\n",
    "plt.xlim([min(np.where(b != 0)[0]) - 1, max(np.where(b != 0)[0]) + 1])\n",
    "plt.show()\n",
    "print(f'Apartado c)\\n\\tPartidas medias antes de bancarrota:  {c}')\n",
    "\n",
    "print(f'Número medio de fichas de cada noche: {sum([x*y for x, y in enumerate(b/sim.n_dias)])}')"
   ]
  },
  {
   "cell_type": "code",
   "execution_count": 10,
   "metadata": {},
   "outputs": [
    {
     "name": "stdout",
     "output_type": "stream",
     "text": [
      "Apartado a)\n",
      "\tProporción días bancarrota:  0.11686666666666713\n",
      "Apartado b)\n",
      "\tDistribución de fichas al final día:\n"
     ]
    },
    {
     "data": {
      "image/png": "[encoded data removed]",
      "text/plain": [
       "<Figure size 432x288 with 1 Axes>"
      ]
     },
     "metadata": {
      "needs_background": "light"
     },
     "output_type": "display_data"
    },
    {
     "name": "stdout",
     "output_type": "stream",
     "text": [
      "Apartado c)\n",
      "\tPartidas medias antes de bancarrota:  41.53942728482606\n",
      "Número medio de fichas de cada noche: 28.570100000000007\n",
      "Desviación estandar de fichas de la simulación: 23.514547646598224\n"
     ]
    }
   ],
   "source": [
    "# Simular para los apartados a, b y c\n",
    "# a) ¿qué proporción de noches a lo largo de un mes se ha retirado por quedarse sin dinero?\n",
    "# b) ¿Cuál es el número de fichas con las que ha finalizado las noches de ese mes y cómo se distribuye (representar el histograma)? \n",
    "# c) ¿cuál  es  el  número  medio  de  partidas  jugadas  antes  de  retirarse  por quedarse sin dinero?\n",
    "sim = SimCasino()\n",
    "a, b, c = sim.simular(n_simulaciones=1000)\n",
    "print(f'Apartado a)\\n\\tProporción días bancarrota:  {a}')\n",
    "print(f'Apartado b)\\n\\tDistribución de fichas al final día:')\n",
    "fig = plt.figure()\n",
    "ax = fig.add_axes([0,0,2,2])\n",
    "ax.bar(list(range(sim.max_fichas + 35)),b, width=1, color = 'b', edgecolor='r')\n",
    "# ax.set_xticks([0] + list(filter(lambda z: z, [x if y > 0 else 0 for x, y in enumerate(b)])))\n",
    "plt.xlim([min(np.where(b != 0)[0]) - 1, max(np.where(b != 0)[0]) + 1])\n",
    "plt.show()\n",
    "print(f'Apartado c)\\n\\tPartidas medias antes de bancarrota:  {c}')\n",
    "mean = sum([x*y for x, y in enumerate(b/sim.n_dias)])\n",
    "print(f'Número medio de fichas de cada noche: {mean}')\n",
    "std = np.sqrt(sum([((x-mean)**2)*y for x, y in enumerate(b)])/(sim.n_dias - 1))\n",
    "print(f'Desviación estandar de fichas de la simulación: {std}')"
   ]
  },
  {
   "cell_type": "code",
   "execution_count": null,
   "metadata": {},
   "outputs": [],
   "source": [
    "# Simular el apartado d\n",
    "# Si  analizamos  el  problema  a  largo  plazo,  jugando  partidas\n",
    "# indefinidamente,  y empezando con 30 fichas ¿cuál es la probabilidad de que\n",
    "# me quede sin dinero? ¿y la de que termine con 150 fichas?\n",
    "sim = SimCasino(n_dias=1, max_partidas=np.inf, max_fichas=150)\n",
    "a, b, c = sim.simular(n_simulaciones=10000)\n",
    "print(f'Probabilidad bancarrota:  {a}')\n",
    "print(f'Probabilidad terminar con 150 fichas o más:  {1-a}')"
   ]
  },
  {
   "cell_type": "code",
   "execution_count": 6,
   "metadata": {},
   "outputs": [
    {
     "name": "stdout",
     "output_type": "stream",
     "text": [
      "Probabilidad bancarrota:  0.889\n",
      "Probabilidad terminar con 150 fichas o más:  0.11099999999999999\n"
     ]
    }
   ],
   "source": [
    "sim = SimCasino(n_dias=1, max_partidas=np.inf, max_fichas=150, probs_jugadas=[0.23970656, 0.15061429, 0.01436985, 0.34799819, 0.0457392, 0.05833889, 0.14323302])\n",
    "a, b, c = sim.simular(n_simulaciones=1000)\n",
    "print(f'Probabilidad bancarrota:  {a}')\n",
    "print(f'Probabilidad terminar con 150 fichas o más:  {1-a}')"
   ]
  },
  {
   "cell_type": "code",
   "execution_count": 1,
   "metadata": {},
   "outputs": [
    {
     "name": "stdout",
     "output_type": "stream",
     "text": [
      " Temperature        Energy    Accept   Improve     Elapsed   Remaining\n",
      "     0.39716        -29.38   100.00%   100.00%     0:01:16     0:00:24\n",
      "[0.   0.04 0.   0.   0.   0.   0.   0.   0.   0.   0.   0.   0.   0.\n",
      " 0.   0.   0.   0.   0.   0.   0.   0.   0.   0.   0.   0.   0.   0.\n",
      " 0.   0.   0.   0.   0.   0.   0.  ]\n"
     ]
    },
    {
     "ename": "NameError",
     "evalue": "name 'exit' is not defined",
     "output_type": "error",
     "traceback": [
      "\u001b[0;31m---------------------------------------------------------------------------\u001b[0m",
      "\u001b[0;31mNameError\u001b[0m                                 Traceback (most recent call last)",
      "\u001b[0;32m/tmp/ipykernel_687/153586177.py\u001b[0m in \u001b[0;36m<module>\u001b[0;34m\u001b[0m\n\u001b[1;32m      5\u001b[0m \u001b[0mann\u001b[0m\u001b[0;34m.\u001b[0m\u001b[0mTmin\u001b[0m \u001b[0;34m=\u001b[0m \u001b[0;36m0.05\u001b[0m\u001b[0;34m\u001b[0m\u001b[0;34m\u001b[0m\u001b[0m\n\u001b[1;32m      6\u001b[0m \u001b[0mann\u001b[0m\u001b[0;34m.\u001b[0m\u001b[0msteps\u001b[0m \u001b[0;34m=\u001b[0m \u001b[0;36m50\u001b[0m\u001b[0;34m\u001b[0m\u001b[0;34m\u001b[0m\u001b[0m\n\u001b[0;32m----> 7\u001b[0;31m \u001b[0mbest_sol\u001b[0m\u001b[0;34m,\u001b[0m \u001b[0mbest_cost\u001b[0m \u001b[0;34m=\u001b[0m \u001b[0mann\u001b[0m\u001b[0;34m.\u001b[0m\u001b[0manneal\u001b[0m\u001b[0;34m(\u001b[0m\u001b[0;34m)\u001b[0m\u001b[0;34m\u001b[0m\u001b[0;34m\u001b[0m\u001b[0m\n\u001b[0m\u001b[1;32m      8\u001b[0m \u001b[0mprint\u001b[0m\u001b[0;34m(\u001b[0m\u001b[0;34mf'Mejores probabilidades: {best_sol}'\u001b[0m\u001b[0;34m)\u001b[0m\u001b[0;34m\u001b[0m\u001b[0;34m\u001b[0m\u001b[0m\n\u001b[1;32m      9\u001b[0m \u001b[0mprint\u001b[0m\u001b[0;34m(\u001b[0m\u001b[0;34mf'Fichas medias: {-best_cost}'\u001b[0m\u001b[0;34m)\u001b[0m\u001b[0;34m\u001b[0m\u001b[0;34m\u001b[0m\u001b[0m\n",
      "\u001b[0;32m/mnt/c/Users/angel/OneDrive - Universidad Politécnica de Madrid/MetodosdeSimulacion/MetodosDeSimulacion/Practica2/casino.py\u001b[0m in \u001b[0;36manneal\u001b[0;34m(self, updates)\u001b[0m\n\u001b[1;32m    198\u001b[0m             \u001b[0mdE\u001b[0m \u001b[0;34m=\u001b[0m \u001b[0mself\u001b[0m\u001b[0;34m.\u001b[0m\u001b[0mmove\u001b[0m\u001b[0;34m(\u001b[0m\u001b[0;34m)\u001b[0m\u001b[0;34m\u001b[0m\u001b[0;34m\u001b[0m\u001b[0m\n\u001b[1;32m    199\u001b[0m             \u001b[0;32mif\u001b[0m \u001b[0mdE\u001b[0m \u001b[0;32mis\u001b[0m \u001b[0;32mNone\u001b[0m\u001b[0;34m:\u001b[0m\u001b[0;34m\u001b[0m\u001b[0;34m\u001b[0m\u001b[0m\n\u001b[0;32m--> 200\u001b[0;31m                 \u001b[0mE\u001b[0m \u001b[0;34m=\u001b[0m \u001b[0mself\u001b[0m\u001b[0;34m.\u001b[0m\u001b[0menergy\u001b[0m\u001b[0;34m(\u001b[0m\u001b[0;34m)\u001b[0m\u001b[0;34m\u001b[0m\u001b[0;34m\u001b[0m\u001b[0m\n\u001b[0m\u001b[1;32m    201\u001b[0m                 \u001b[0mdE\u001b[0m \u001b[0;34m=\u001b[0m \u001b[0mE\u001b[0m \u001b[0;34m-\u001b[0m \u001b[0mprevEnergy\u001b[0m\u001b[0;34m\u001b[0m\u001b[0;34m\u001b[0m\u001b[0m\n\u001b[1;32m    202\u001b[0m             \u001b[0;32melse\u001b[0m\u001b[0;34m:\u001b[0m\u001b[0;34m\u001b[0m\u001b[0;34m\u001b[0m\u001b[0m\n",
      "\u001b[0;32m/mnt/c/Users/angel/OneDrive - Universidad Politécnica de Madrid/MetodosdeSimulacion/MetodosDeSimulacion/Practica2/casino.py\u001b[0m in \u001b[0;36menergy\u001b[0;34m(self)\u001b[0m\n\u001b[1;32m    134\u001b[0m         \u001b[0;32mif\u001b[0m \u001b[0mres\u001b[0m \u001b[0;34m<\u001b[0m \u001b[0;34m-\u001b[0m\u001b[0;36m30\u001b[0m\u001b[0;34m:\u001b[0m\u001b[0;34m\u001b[0m\u001b[0;34m\u001b[0m\u001b[0m\n\u001b[1;32m    135\u001b[0m             \u001b[0mprint\u001b[0m\u001b[0;34m(\u001b[0m\u001b[0mfichas\u001b[0m\u001b[0;34m[\u001b[0m\u001b[0;36m150\u001b[0m\u001b[0;34m:\u001b[0m\u001b[0;34m]\u001b[0m\u001b[0;34m)\u001b[0m\u001b[0;34m\u001b[0m\u001b[0;34m\u001b[0m\u001b[0m\n\u001b[0;32m--> 136\u001b[0;31m             \u001b[0mexit\u001b[0m\u001b[0;34m(\u001b[0m\u001b[0;34m)\u001b[0m\u001b[0;34m\u001b[0m\u001b[0;34m\u001b[0m\u001b[0m\n\u001b[0m\u001b[1;32m    137\u001b[0m         \u001b[0;32mreturn\u001b[0m \u001b[0mres\u001b[0m\u001b[0;34m\u001b[0m\u001b[0;34m\u001b[0m\u001b[0m\n\u001b[1;32m    138\u001b[0m \u001b[0;34m\u001b[0m\u001b[0m\n",
      "\u001b[0;31mNameError\u001b[0m: name 'exit' is not defined"
     ]
    }
   ],
   "source": [
    "from casino import SimCasino, CasinoAnnealer\n",
    "\n",
    "ann = CasinoAnnealer(n_simulaciones=25, T_config={'L': 5})\n",
    "ann.Tmax = 50\n",
    "ann.Tmin = 0.05\n",
    "ann.steps = 50\n",
    "best_sol, best_cost = ann.anneal()\n",
    "print(f'Mejores probabilidades: {best_sol}')\n",
    "print(f'Fichas medias: {-best_cost}')\n",
    "print(f'Nº epochs {ann.epochs}')\n",
    "ann.plot_evolution()"
   ]
  },
  {
   "cell_type": "code",
   "execution_count": null,
   "metadata": {},
   "outputs": [],
   "source": [
    "from casino import SimCasino, CasinoAnnealer\n",
    "\n",
    "casino = CasinoAnnealer(n_simulaciones=750)\n",
    "schedule = casino.auto(minutes=10, steps=10)\n",
    "print(schedule)"
   ]
  }
 ],
 "metadata": {
  "interpreter": {
   "hash": "194ff9c937121b65b034432fde0348e32f7b2ab631453b1606421b0cc09ae2fa"
  },
  "kernelspec": {
   "display_name": "Python 3.8.5 64-bit ('Practica2-J_JMeuWi': pipenv)",
   "language": "python",
   "name": "python3"
  },
  "language_info": {
   "codemirror_mode": {
    "name": "ipython",
    "version": 3
   },
   "file_extension": ".py",
   "mimetype": "text/x-python",
   "name": "python",
   "nbconvert_exporter": "python",
   "pygments_lexer": "ipython3",
   "version": "3.8.10"
  },
  "orig_nbformat": 4
 },
 "nbformat": 4,
 "nbformat_minor": 2
}
